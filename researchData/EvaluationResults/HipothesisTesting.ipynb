{
 "cells": [
  {
   "cell_type": "markdown",
   "id": "6f9c3109-cfcf-4360-8549-29abb199a212",
   "metadata": {},
   "source": [
    "Imports definition"
   ]
  },
  {
   "cell_type": "code",
   "execution_count": 1,
   "id": "e523a4c7-d67a-4dac-a7c0-acfed0a3b89d",
   "metadata": {},
   "outputs": [],
   "source": [
    "import pandas as pd\n",
    "import numpy as np\n",
    "from scipy.stats import shapiro,wilcoxon,ttest_rel"
   ]
  },
  {
   "cell_type": "markdown",
   "id": "837e97fa-36f0-4990-b900-a46283365918",
   "metadata": {},
   "source": [
    "# Load the dataset"
   ]
  },
  {
   "cell_type": "code",
   "execution_count": 35,
   "id": "bfba4e8d-57ae-4284-bab6-6e5937943295",
   "metadata": {},
   "outputs": [
    {
     "data": {
      "text/html": [
       "<div>\n",
       "<style scoped>\n",
       "    .dataframe tbody tr th:only-of-type {\n",
       "        vertical-align: middle;\n",
       "    }\n",
       "\n",
       "    .dataframe tbody tr th {\n",
       "        vertical-align: top;\n",
       "    }\n",
       "\n",
       "    .dataframe thead th {\n",
       "        text-align: right;\n",
       "    }\n",
       "</style>\n",
       "<table border=\"1\" class=\"dataframe\">\n",
       "  <thead>\n",
       "    <tr style=\"text-align: right;\">\n",
       "      <th></th>\n",
       "      <th>project</th>\n",
       "      <th>isolated_tests_OD_detected</th>\n",
       "      <th>isolated_tests_NOD_detected</th>\n",
       "      <th>isolated_tests_repaired</th>\n",
       "      <th>isolated_detection_OD_recall</th>\n",
       "      <th>isolated_detection_NOD_recall</th>\n",
       "      <th>isolated_repair_recall</th>\n",
       "      <th>isolated_detection_time</th>\n",
       "      <th>isolated_repair_time</th>\n",
       "      <th>integrated_tests_OD_detected</th>\n",
       "      <th>integrated_tests_NOD_detected</th>\n",
       "      <th>integrated_tests_repaired</th>\n",
       "      <th>integrated_detection_OD_recall</th>\n",
       "      <th>integrated_detection_NOD_recall</th>\n",
       "      <th>integrated_repair_recall</th>\n",
       "      <th>integrated_total_time</th>\n",
       "    </tr>\n",
       "  </thead>\n",
       "  <tbody>\n",
       "    <tr>\n",
       "      <th>0</th>\n",
       "      <td>spring-cloud-netflix</td>\n",
       "      <td>8</td>\n",
       "      <td>0</td>\n",
       "      <td>0</td>\n",
       "      <td>0.800000</td>\n",
       "      <td>NaN</td>\n",
       "      <td>0.000000</td>\n",
       "      <td>44</td>\n",
       "      <td>9</td>\n",
       "      <td>8</td>\n",
       "      <td>0</td>\n",
       "      <td>0</td>\n",
       "      <td>0.800000</td>\n",
       "      <td>NaN</td>\n",
       "      <td>0.000000</td>\n",
       "      <td>39</td>\n",
       "    </tr>\n",
       "    <tr>\n",
       "      <th>1</th>\n",
       "      <td>json-iterator</td>\n",
       "      <td>20</td>\n",
       "      <td>1</td>\n",
       "      <td>0</td>\n",
       "      <td>1.000000</td>\n",
       "      <td>0.125</td>\n",
       "      <td>0.000000</td>\n",
       "      <td>9</td>\n",
       "      <td>8</td>\n",
       "      <td>20</td>\n",
       "      <td>1</td>\n",
       "      <td>0</td>\n",
       "      <td>1.000000</td>\n",
       "      <td>0.125</td>\n",
       "      <td>0.000000</td>\n",
       "      <td>17</td>\n",
       "    </tr>\n",
       "    <tr>\n",
       "      <th>2</th>\n",
       "      <td>nifi</td>\n",
       "      <td>0</td>\n",
       "      <td>0</td>\n",
       "      <td>0</td>\n",
       "      <td>0.000000</td>\n",
       "      <td>NaN</td>\n",
       "      <td>0.000000</td>\n",
       "      <td>494</td>\n",
       "      <td>143</td>\n",
       "      <td>1</td>\n",
       "      <td>0</td>\n",
       "      <td>0</td>\n",
       "      <td>0.047619</td>\n",
       "      <td>NaN</td>\n",
       "      <td>0.000000</td>\n",
       "      <td>174</td>\n",
       "    </tr>\n",
       "    <tr>\n",
       "      <th>3</th>\n",
       "      <td>fastjson</td>\n",
       "      <td>0</td>\n",
       "      <td>0</td>\n",
       "      <td>1</td>\n",
       "      <td>0.000000</td>\n",
       "      <td>0</td>\n",
       "      <td>0.066667</td>\n",
       "      <td>12</td>\n",
       "      <td>70</td>\n",
       "      <td>0</td>\n",
       "      <td>0</td>\n",
       "      <td>0</td>\n",
       "      <td>0.000000</td>\n",
       "      <td>0</td>\n",
       "      <td>0.000000</td>\n",
       "      <td>112</td>\n",
       "    </tr>\n",
       "    <tr>\n",
       "      <th>4</th>\n",
       "      <td>wasp</td>\n",
       "      <td>28</td>\n",
       "      <td>89</td>\n",
       "      <td>0</td>\n",
       "      <td>1.000000</td>\n",
       "      <td>0.773913043</td>\n",
       "      <td>0.000000</td>\n",
       "      <td>215</td>\n",
       "      <td>12</td>\n",
       "      <td>28</td>\n",
       "      <td>89</td>\n",
       "      <td>0</td>\n",
       "      <td>1.000000</td>\n",
       "      <td>0.773913043</td>\n",
       "      <td>0.000000</td>\n",
       "      <td>226</td>\n",
       "    </tr>\n",
       "    <tr>\n",
       "      <th>5</th>\n",
       "      <td>hive</td>\n",
       "      <td>3</td>\n",
       "      <td>0</td>\n",
       "      <td>0</td>\n",
       "      <td>0.157895</td>\n",
       "      <td>NaN</td>\n",
       "      <td>0.000000</td>\n",
       "      <td>1440</td>\n",
       "      <td>74</td>\n",
       "      <td>2</td>\n",
       "      <td>0</td>\n",
       "      <td>0</td>\n",
       "      <td>0.105263</td>\n",
       "      <td>NaN</td>\n",
       "      <td>0.000000</td>\n",
       "      <td>792</td>\n",
       "    </tr>\n",
       "    <tr>\n",
       "      <th>6</th>\n",
       "      <td>spring-cloud-kubernetes</td>\n",
       "      <td>30</td>\n",
       "      <td>0</td>\n",
       "      <td>0</td>\n",
       "      <td>1.000000</td>\n",
       "      <td>NaN</td>\n",
       "      <td>0.000000</td>\n",
       "      <td>481</td>\n",
       "      <td>34</td>\n",
       "      <td>29</td>\n",
       "      <td>0</td>\n",
       "      <td>0</td>\n",
       "      <td>0.966667</td>\n",
       "      <td>NaN</td>\n",
       "      <td>0.000000</td>\n",
       "      <td>456</td>\n",
       "    </tr>\n",
       "    <tr>\n",
       "      <th>7</th>\n",
       "      <td>visualee</td>\n",
       "      <td>47</td>\n",
       "      <td>0</td>\n",
       "      <td>46</td>\n",
       "      <td>1.000000</td>\n",
       "      <td>NaN</td>\n",
       "      <td>0.978723</td>\n",
       "      <td>10</td>\n",
       "      <td>222</td>\n",
       "      <td>47</td>\n",
       "      <td>0</td>\n",
       "      <td>45</td>\n",
       "      <td>1.000000</td>\n",
       "      <td>NaN</td>\n",
       "      <td>0.957447</td>\n",
       "      <td>227</td>\n",
       "    </tr>\n",
       "    <tr>\n",
       "      <th>8</th>\n",
       "      <td>ormlite-core</td>\n",
       "      <td>87</td>\n",
       "      <td>0</td>\n",
       "      <td>0</td>\n",
       "      <td>1.000000</td>\n",
       "      <td>NaN</td>\n",
       "      <td>0.000000</td>\n",
       "      <td>61</td>\n",
       "      <td>40</td>\n",
       "      <td>87</td>\n",
       "      <td>0</td>\n",
       "      <td>0</td>\n",
       "      <td>1.000000</td>\n",
       "      <td>NaN</td>\n",
       "      <td>0.000000</td>\n",
       "      <td>76</td>\n",
       "    </tr>\n",
       "    <tr>\n",
       "      <th>9</th>\n",
       "      <td>remoting</td>\n",
       "      <td>0</td>\n",
       "      <td>0</td>\n",
       "      <td>0</td>\n",
       "      <td>0.000000</td>\n",
       "      <td>0</td>\n",
       "      <td>0.000000</td>\n",
       "      <td>380</td>\n",
       "      <td>26</td>\n",
       "      <td>0</td>\n",
       "      <td>0</td>\n",
       "      <td>0</td>\n",
       "      <td>0.000000</td>\n",
       "      <td>0</td>\n",
       "      <td>0.000000</td>\n",
       "      <td>558</td>\n",
       "    </tr>\n",
       "  </tbody>\n",
       "</table>\n",
       "</div>"
      ],
      "text/plain": [
       "                   project  isolated_tests_OD_detected  \\\n",
       "0     spring-cloud-netflix                           8   \n",
       "1            json-iterator                          20   \n",
       "2                     nifi                           0   \n",
       "3                 fastjson                           0   \n",
       "4                     wasp                          28   \n",
       "5                     hive                           3   \n",
       "6  spring-cloud-kubernetes                          30   \n",
       "7                 visualee                          47   \n",
       "8             ormlite-core                          87   \n",
       "9                 remoting                           0   \n",
       "\n",
       "   isolated_tests_NOD_detected  isolated_tests_repaired  \\\n",
       "0                            0                        0   \n",
       "1                            1                        0   \n",
       "2                            0                        0   \n",
       "3                            0                        1   \n",
       "4                           89                        0   \n",
       "5                            0                        0   \n",
       "6                            0                        0   \n",
       "7                            0                       46   \n",
       "8                            0                        0   \n",
       "9                            0                        0   \n",
       "\n",
       "   isolated_detection_OD_recall isolated_detection_NOD_recall  \\\n",
       "0                      0.800000                           NaN   \n",
       "1                      1.000000                         0.125   \n",
       "2                      0.000000                           NaN   \n",
       "3                      0.000000                             0   \n",
       "4                      1.000000                   0.773913043   \n",
       "5                      0.157895                           NaN   \n",
       "6                      1.000000                           NaN   \n",
       "7                      1.000000                           NaN   \n",
       "8                      1.000000                           NaN   \n",
       "9                      0.000000                             0   \n",
       "\n",
       "   isolated_repair_recall  isolated_detection_time  isolated_repair_time  \\\n",
       "0                0.000000                       44                     9   \n",
       "1                0.000000                        9                     8   \n",
       "2                0.000000                      494                   143   \n",
       "3                0.066667                       12                    70   \n",
       "4                0.000000                      215                    12   \n",
       "5                0.000000                     1440                    74   \n",
       "6                0.000000                      481                    34   \n",
       "7                0.978723                       10                   222   \n",
       "8                0.000000                       61                    40   \n",
       "9                0.000000                      380                    26   \n",
       "\n",
       "   integrated_tests_OD_detected  integrated_tests_NOD_detected  \\\n",
       "0                             8                              0   \n",
       "1                            20                              1   \n",
       "2                             1                              0   \n",
       "3                             0                              0   \n",
       "4                            28                             89   \n",
       "5                             2                              0   \n",
       "6                            29                              0   \n",
       "7                            47                              0   \n",
       "8                            87                              0   \n",
       "9                             0                              0   \n",
       "\n",
       "   integrated_tests_repaired  integrated_detection_OD_recall  \\\n",
       "0                          0                        0.800000   \n",
       "1                          0                        1.000000   \n",
       "2                          0                        0.047619   \n",
       "3                          0                        0.000000   \n",
       "4                          0                        1.000000   \n",
       "5                          0                        0.105263   \n",
       "6                          0                        0.966667   \n",
       "7                         45                        1.000000   \n",
       "8                          0                        1.000000   \n",
       "9                          0                        0.000000   \n",
       "\n",
       "  integrated_detection_NOD_recall  integrated_repair_recall  \\\n",
       "0                             NaN                  0.000000   \n",
       "1                           0.125                  0.000000   \n",
       "2                             NaN                  0.000000   \n",
       "3                               0                  0.000000   \n",
       "4                     0.773913043                  0.000000   \n",
       "5                             NaN                  0.000000   \n",
       "6                             NaN                  0.000000   \n",
       "7                             NaN                  0.957447   \n",
       "8                             NaN                  0.000000   \n",
       "9                               0                  0.000000   \n",
       "\n",
       "   integrated_total_time  \n",
       "0                     39  \n",
       "1                     17  \n",
       "2                    174  \n",
       "3                    112  \n",
       "4                    226  \n",
       "5                    792  \n",
       "6                    456  \n",
       "7                    227  \n",
       "8                     76  \n",
       "9                    558  "
      ]
     },
     "execution_count": 35,
     "metadata": {},
     "output_type": "execute_result"
    }
   ],
   "source": [
    "# Load the data\n",
    "data = pd.read_csv('result_analysis/input/DatasetExecution.csv')\n",
    "data.replace(\"No NOD tests\", np.nan, inplace=True)\n",
    "\n",
    "#Obtain variable excluding hive due to it's unstable execution\n",
    "dataExclHive = data.drop(5)\n",
    "\n",
    "data"
   ]
  },
  {
   "cell_type": "markdown",
   "id": "0d93fbb0-26fb-4484-9c4a-58cb83329343",
   "metadata": {},
   "source": [
    "# Obtain Descriptive Statistics"
   ]
  },
  {
   "cell_type": "markdown",
   "id": "37ed73af-c897-4ff6-b2f7-02a4b9916db9",
   "metadata": {},
   "source": [
    "__Recall descriptive statistics (OD)__"
   ]
  },
  {
   "cell_type": "code",
   "execution_count": 22,
   "id": "a3fc2105-8e22-4dd3-81a8-b3944c2b6477",
   "metadata": {},
   "outputs": [
    {
     "data": {
      "text/html": [
       "<div>\n",
       "<style scoped>\n",
       "    .dataframe tbody tr th:only-of-type {\n",
       "        vertical-align: middle;\n",
       "    }\n",
       "\n",
       "    .dataframe tbody tr th {\n",
       "        vertical-align: top;\n",
       "    }\n",
       "\n",
       "    .dataframe thead th {\n",
       "        text-align: right;\n",
       "    }\n",
       "</style>\n",
       "<table border=\"1\" class=\"dataframe\">\n",
       "  <thead>\n",
       "    <tr style=\"text-align: right;\">\n",
       "      <th></th>\n",
       "      <th>isolated_detection_OD_recall</th>\n",
       "      <th>isolated_repair_recall</th>\n",
       "      <th>integrated_detection_OD_recall</th>\n",
       "      <th>integrated_repair_recall</th>\n",
       "    </tr>\n",
       "  </thead>\n",
       "  <tbody>\n",
       "    <tr>\n",
       "      <th>count</th>\n",
       "      <td>10.000000</td>\n",
       "      <td>10.000000</td>\n",
       "      <td>10.000000</td>\n",
       "      <td>10.000000</td>\n",
       "    </tr>\n",
       "    <tr>\n",
       "      <th>mean</th>\n",
       "      <td>0.595789</td>\n",
       "      <td>0.104539</td>\n",
       "      <td>0.591955</td>\n",
       "      <td>0.095745</td>\n",
       "    </tr>\n",
       "    <tr>\n",
       "      <th>std</th>\n",
       "      <td>0.484800</td>\n",
       "      <td>0.307871</td>\n",
       "      <td>0.481166</td>\n",
       "      <td>0.302771</td>\n",
       "    </tr>\n",
       "    <tr>\n",
       "      <th>min</th>\n",
       "      <td>0.000000</td>\n",
       "      <td>0.000000</td>\n",
       "      <td>0.000000</td>\n",
       "      <td>0.000000</td>\n",
       "    </tr>\n",
       "    <tr>\n",
       "      <th>25%</th>\n",
       "      <td>0.039474</td>\n",
       "      <td>0.000000</td>\n",
       "      <td>0.062030</td>\n",
       "      <td>0.000000</td>\n",
       "    </tr>\n",
       "    <tr>\n",
       "      <th>50%</th>\n",
       "      <td>0.900000</td>\n",
       "      <td>0.000000</td>\n",
       "      <td>0.883333</td>\n",
       "      <td>0.000000</td>\n",
       "    </tr>\n",
       "    <tr>\n",
       "      <th>75%</th>\n",
       "      <td>1.000000</td>\n",
       "      <td>0.000000</td>\n",
       "      <td>1.000000</td>\n",
       "      <td>0.000000</td>\n",
       "    </tr>\n",
       "    <tr>\n",
       "      <th>max</th>\n",
       "      <td>1.000000</td>\n",
       "      <td>0.978723</td>\n",
       "      <td>1.000000</td>\n",
       "      <td>0.957447</td>\n",
       "    </tr>\n",
       "  </tbody>\n",
       "</table>\n",
       "</div>"
      ],
      "text/plain": [
       "       isolated_detection_OD_recall  isolated_repair_recall  \\\n",
       "count                     10.000000               10.000000   \n",
       "mean                       0.595789                0.104539   \n",
       "std                        0.484800                0.307871   \n",
       "min                        0.000000                0.000000   \n",
       "25%                        0.039474                0.000000   \n",
       "50%                        0.900000                0.000000   \n",
       "75%                        1.000000                0.000000   \n",
       "max                        1.000000                0.978723   \n",
       "\n",
       "       integrated_detection_OD_recall  integrated_repair_recall  \n",
       "count                       10.000000                 10.000000  \n",
       "mean                         0.591955                  0.095745  \n",
       "std                          0.481166                  0.302771  \n",
       "min                          0.000000                  0.000000  \n",
       "25%                          0.062030                  0.000000  \n",
       "50%                          0.883333                  0.000000  \n",
       "75%                          1.000000                  0.000000  \n",
       "max                          1.000000                  0.957447  "
      ]
     },
     "execution_count": 22,
     "metadata": {},
     "output_type": "execute_result"
    }
   ],
   "source": [
    "recall_columns_OD = [\n",
    "    'isolated_detection_OD_recall', 'isolated_repair_recall', \n",
    "    'integrated_detection_OD_recall', 'integrated_repair_recall'\n",
    "]\n",
    "\n",
    "data[recall_columns_OD].describe()"
   ]
  },
  {
   "cell_type": "markdown",
   "id": "9f157826-f9e7-4ea0-b2e4-20c48b107d76",
   "metadata": {},
   "source": [
    "Conclusions: Using a manual analysis, the mean of the detection recall for OD flaky tests, seems to be approximate for both the isolated execution and integrated execution of the tools. The same occurs for the repair recall for both isolated and integrated executions."
   ]
  },
  {
   "cell_type": "markdown",
   "id": "1eafba97-d29c-4f82-8cc9-66ffcf434df8",
   "metadata": {},
   "source": [
    "__Recall descriptive statistics (NOD)__"
   ]
  },
  {
   "cell_type": "code",
   "execution_count": 33,
   "id": "dfcc4eb8-7b94-4367-a41b-e3230cb1174c",
   "metadata": {},
   "outputs": [
    {
     "data": {
      "text/html": [
       "<div>\n",
       "<style scoped>\n",
       "    .dataframe tbody tr th:only-of-type {\n",
       "        vertical-align: middle;\n",
       "    }\n",
       "\n",
       "    .dataframe tbody tr th {\n",
       "        vertical-align: top;\n",
       "    }\n",
       "\n",
       "    .dataframe thead th {\n",
       "        text-align: right;\n",
       "    }\n",
       "</style>\n",
       "<table border=\"1\" class=\"dataframe\">\n",
       "  <thead>\n",
       "    <tr style=\"text-align: right;\">\n",
       "      <th></th>\n",
       "      <th>isolated_detection_NOD_recall</th>\n",
       "      <th>integrated_detection_NOD_recall</th>\n",
       "    </tr>\n",
       "  </thead>\n",
       "  <tbody>\n",
       "    <tr>\n",
       "      <th>count</th>\n",
       "      <td>4.000000</td>\n",
       "      <td>4.000000</td>\n",
       "    </tr>\n",
       "    <tr>\n",
       "      <th>mean</th>\n",
       "      <td>0.224728</td>\n",
       "      <td>0.224728</td>\n",
       "    </tr>\n",
       "    <tr>\n",
       "      <th>std</th>\n",
       "      <td>0.370835</td>\n",
       "      <td>0.370835</td>\n",
       "    </tr>\n",
       "    <tr>\n",
       "      <th>min</th>\n",
       "      <td>0.000000</td>\n",
       "      <td>0.000000</td>\n",
       "    </tr>\n",
       "    <tr>\n",
       "      <th>25%</th>\n",
       "      <td>0.000000</td>\n",
       "      <td>0.000000</td>\n",
       "    </tr>\n",
       "    <tr>\n",
       "      <th>50%</th>\n",
       "      <td>0.062500</td>\n",
       "      <td>0.062500</td>\n",
       "    </tr>\n",
       "    <tr>\n",
       "      <th>75%</th>\n",
       "      <td>0.287228</td>\n",
       "      <td>0.287228</td>\n",
       "    </tr>\n",
       "    <tr>\n",
       "      <th>max</th>\n",
       "      <td>0.773913</td>\n",
       "      <td>0.773913</td>\n",
       "    </tr>\n",
       "  </tbody>\n",
       "</table>\n",
       "</div>"
      ],
      "text/plain": [
       "       isolated_detection_NOD_recall  integrated_detection_NOD_recall\n",
       "count                       4.000000                         4.000000\n",
       "mean                        0.224728                         0.224728\n",
       "std                         0.370835                         0.370835\n",
       "min                         0.000000                         0.000000\n",
       "25%                         0.000000                         0.000000\n",
       "50%                         0.062500                         0.062500\n",
       "75%                         0.287228                         0.287228\n",
       "max                         0.773913                         0.773913"
      ]
     },
     "execution_count": 33,
     "metadata": {},
     "output_type": "execute_result"
    }
   ],
   "source": [
    "recall_columns_NOD = [\n",
    "    'isolated_detection_NOD_recall', 'integrated_detection_NOD_recall',\n",
    "]\n",
    "\n",
    "data_nod = data.dropna()\n",
    "\n",
    "data_nod[recall_columns_NOD].astype(float).describe()"
   ]
  },
  {
   "cell_type": "markdown",
   "id": "65e69a13-a3dd-4865-b67b-496849bf83ab",
   "metadata": {},
   "source": [
    "Conclusions: Using a manual analysis, the mean of the detection recall for NOD flaky tests, seems to be approximate for both the isolated execution and integrated execution of the tools."
   ]
  },
  {
   "cell_type": "markdown",
   "id": "d32dbd81-9640-417e-a2d0-be57f54e8760",
   "metadata": {},
   "source": [
    "__Time descriptive statistics (with hive)__"
   ]
  },
  {
   "cell_type": "code",
   "execution_count": 37,
   "id": "913ce2de-c3cf-4ea6-842d-31f792a8dfcc",
   "metadata": {},
   "outputs": [
    {
     "data": {
      "text/html": [
       "<div>\n",
       "<style scoped>\n",
       "    .dataframe tbody tr th:only-of-type {\n",
       "        vertical-align: middle;\n",
       "    }\n",
       "\n",
       "    .dataframe tbody tr th {\n",
       "        vertical-align: top;\n",
       "    }\n",
       "\n",
       "    .dataframe thead th {\n",
       "        text-align: right;\n",
       "    }\n",
       "</style>\n",
       "<table border=\"1\" class=\"dataframe\">\n",
       "  <thead>\n",
       "    <tr style=\"text-align: right;\">\n",
       "      <th></th>\n",
       "      <th>isolated_detection_time</th>\n",
       "      <th>isolated_repair_time</th>\n",
       "      <th>sum_isolated_time</th>\n",
       "      <th>integrated_total_time</th>\n",
       "    </tr>\n",
       "  </thead>\n",
       "  <tbody>\n",
       "    <tr>\n",
       "      <th>count</th>\n",
       "      <td>10.000000</td>\n",
       "      <td>10.000000</td>\n",
       "      <td>10.000000</td>\n",
       "      <td>10.00000</td>\n",
       "    </tr>\n",
       "    <tr>\n",
       "      <th>mean</th>\n",
       "      <td>314.600000</td>\n",
       "      <td>63.800000</td>\n",
       "      <td>378.400000</td>\n",
       "      <td>267.70000</td>\n",
       "    </tr>\n",
       "    <tr>\n",
       "      <th>std</th>\n",
       "      <td>441.697785</td>\n",
       "      <td>69.222347</td>\n",
       "      <td>449.881021</td>\n",
       "      <td>254.50215</td>\n",
       "    </tr>\n",
       "    <tr>\n",
       "      <th>min</th>\n",
       "      <td>9.000000</td>\n",
       "      <td>8.000000</td>\n",
       "      <td>17.000000</td>\n",
       "      <td>17.00000</td>\n",
       "    </tr>\n",
       "    <tr>\n",
       "      <th>25%</th>\n",
       "      <td>20.000000</td>\n",
       "      <td>15.500000</td>\n",
       "      <td>86.750000</td>\n",
       "      <td>85.00000</td>\n",
       "    </tr>\n",
       "    <tr>\n",
       "      <th>50%</th>\n",
       "      <td>138.000000</td>\n",
       "      <td>37.000000</td>\n",
       "      <td>229.500000</td>\n",
       "      <td>200.00000</td>\n",
       "    </tr>\n",
       "    <tr>\n",
       "      <th>75%</th>\n",
       "      <td>455.750000</td>\n",
       "      <td>73.000000</td>\n",
       "      <td>487.750000</td>\n",
       "      <td>398.75000</td>\n",
       "    </tr>\n",
       "    <tr>\n",
       "      <th>max</th>\n",
       "      <td>1440.000000</td>\n",
       "      <td>222.000000</td>\n",
       "      <td>1514.000000</td>\n",
       "      <td>792.00000</td>\n",
       "    </tr>\n",
       "  </tbody>\n",
       "</table>\n",
       "</div>"
      ],
      "text/plain": [
       "       isolated_detection_time  isolated_repair_time  sum_isolated_time  \\\n",
       "count                10.000000             10.000000          10.000000   \n",
       "mean                314.600000             63.800000         378.400000   \n",
       "std                 441.697785             69.222347         449.881021   \n",
       "min                   9.000000              8.000000          17.000000   \n",
       "25%                  20.000000             15.500000          86.750000   \n",
       "50%                 138.000000             37.000000         229.500000   \n",
       "75%                 455.750000             73.000000         487.750000   \n",
       "max                1440.000000            222.000000        1514.000000   \n",
       "\n",
       "       integrated_total_time  \n",
       "count               10.00000  \n",
       "mean               267.70000  \n",
       "std                254.50215  \n",
       "min                 17.00000  \n",
       "25%                 85.00000  \n",
       "50%                200.00000  \n",
       "75%                398.75000  \n",
       "max                792.00000  "
      ]
     },
     "execution_count": 37,
     "metadata": {},
     "output_type": "execute_result"
    }
   ],
   "source": [
    "data['sum_isolated_time'] = data['isolated_detection_time'] + data['isolated_repair_time']\n",
    "\n",
    "time_columns = ['isolated_detection_time', 'isolated_repair_time', 'sum_isolated_time', 'integrated_total_time']\n",
    "data[time_columns].describe()"
   ]
  },
  {
   "cell_type": "markdown",
   "id": "ecdebccb-eb8c-41f0-9d71-ef4088c556d2",
   "metadata": {},
   "source": [
    "Conclusions: Using a manual analysis, the mean of the total time taken for both the detection and repair tools to run in isolation is higher than time taken for the integration to run."
   ]
  },
  {
   "cell_type": "markdown",
   "id": "5a781b72-33b5-4a0a-9944-2a0fa18c98dd",
   "metadata": {},
   "source": [
    "__Time descriptive statistics (without hive)__"
   ]
  },
  {
   "cell_type": "code",
   "execution_count": 38,
   "id": "a56a27cb-2756-44b6-bd33-08ba1d6c462e",
   "metadata": {},
   "outputs": [
    {
     "data": {
      "text/html": [
       "<div>\n",
       "<style scoped>\n",
       "    .dataframe tbody tr th:only-of-type {\n",
       "        vertical-align: middle;\n",
       "    }\n",
       "\n",
       "    .dataframe tbody tr th {\n",
       "        vertical-align: top;\n",
       "    }\n",
       "\n",
       "    .dataframe thead th {\n",
       "        text-align: right;\n",
       "    }\n",
       "</style>\n",
       "<table border=\"1\" class=\"dataframe\">\n",
       "  <thead>\n",
       "    <tr style=\"text-align: right;\">\n",
       "      <th></th>\n",
       "      <th>isolated_detection_time</th>\n",
       "      <th>isolated_repair_time</th>\n",
       "      <th>sum_isolated_time</th>\n",
       "      <th>integrated_total_time</th>\n",
       "    </tr>\n",
       "  </thead>\n",
       "  <tbody>\n",
       "    <tr>\n",
       "      <th>count</th>\n",
       "      <td>9.000000</td>\n",
       "      <td>9.000000</td>\n",
       "      <td>9.000000</td>\n",
       "      <td>9.000000</td>\n",
       "    </tr>\n",
       "    <tr>\n",
       "      <th>mean</th>\n",
       "      <td>189.555556</td>\n",
       "      <td>62.666667</td>\n",
       "      <td>252.222222</td>\n",
       "      <td>209.444444</td>\n",
       "    </tr>\n",
       "    <tr>\n",
       "      <th>std</th>\n",
       "      <td>208.752911</td>\n",
       "      <td>73.322916</td>\n",
       "      <td>220.414824</td>\n",
       "      <td>186.248564</td>\n",
       "    </tr>\n",
       "    <tr>\n",
       "      <th>min</th>\n",
       "      <td>9.000000</td>\n",
       "      <td>8.000000</td>\n",
       "      <td>17.000000</td>\n",
       "      <td>17.000000</td>\n",
       "    </tr>\n",
       "    <tr>\n",
       "      <th>25%</th>\n",
       "      <td>12.000000</td>\n",
       "      <td>12.000000</td>\n",
       "      <td>82.000000</td>\n",
       "      <td>76.000000</td>\n",
       "    </tr>\n",
       "    <tr>\n",
       "      <th>50%</th>\n",
       "      <td>61.000000</td>\n",
       "      <td>34.000000</td>\n",
       "      <td>227.000000</td>\n",
       "      <td>174.000000</td>\n",
       "    </tr>\n",
       "    <tr>\n",
       "      <th>75%</th>\n",
       "      <td>380.000000</td>\n",
       "      <td>70.000000</td>\n",
       "      <td>406.000000</td>\n",
       "      <td>227.000000</td>\n",
       "    </tr>\n",
       "    <tr>\n",
       "      <th>max</th>\n",
       "      <td>494.000000</td>\n",
       "      <td>222.000000</td>\n",
       "      <td>637.000000</td>\n",
       "      <td>558.000000</td>\n",
       "    </tr>\n",
       "  </tbody>\n",
       "</table>\n",
       "</div>"
      ],
      "text/plain": [
       "       isolated_detection_time  isolated_repair_time  sum_isolated_time  \\\n",
       "count                 9.000000              9.000000           9.000000   \n",
       "mean                189.555556             62.666667         252.222222   \n",
       "std                 208.752911             73.322916         220.414824   \n",
       "min                   9.000000              8.000000          17.000000   \n",
       "25%                  12.000000             12.000000          82.000000   \n",
       "50%                  61.000000             34.000000         227.000000   \n",
       "75%                 380.000000             70.000000         406.000000   \n",
       "max                 494.000000            222.000000         637.000000   \n",
       "\n",
       "       integrated_total_time  \n",
       "count               9.000000  \n",
       "mean              209.444444  \n",
       "std               186.248564  \n",
       "min                17.000000  \n",
       "25%                76.000000  \n",
       "50%               174.000000  \n",
       "75%               227.000000  \n",
       "max               558.000000  "
      ]
     },
     "execution_count": 38,
     "metadata": {},
     "output_type": "execute_result"
    }
   ],
   "source": [
    "dataExclHive['sum_isolated_time'] = dataExclHive['isolated_detection_time'] + dataExclHive['isolated_repair_time']\n",
    "\n",
    "time_columns = ['isolated_detection_time', 'isolated_repair_time', 'sum_isolated_time', 'integrated_total_time']\n",
    "dataExclHive[time_columns].describe()"
   ]
  },
  {
   "cell_type": "markdown",
   "id": "59ebc599-d0e2-4b9d-9cb9-3f1a01688cc3",
   "metadata": {},
   "source": [
    "Conclusions: If the hive anomaly is excluded, the difference between the time taken for the isolated executions and the integrated executions is reduced, however, the time taken for the sum of the isolated executions is still superior to the integrated execution."
   ]
  },
  {
   "cell_type": "markdown",
   "id": "5ab49085-a4dc-455e-82cb-d561dfaba3bc",
   "metadata": {},
   "source": [
    "# Addressing MQ2"
   ]
  },
  {
   "cell_type": "markdown",
   "id": "94788876-c652-4680-8167-3f6d2e1f6c9c",
   "metadata": {},
   "source": [
    "MQ2: Can a unified approach for detecting and repairing flakiness caused by order-dependent tests be as effective as the existing alternative approaches?"
   ]
  },
  {
   "cell_type": "markdown",
   "id": "7078c8b0-ef4d-4e35-8e99-abc487f8495b",
   "metadata": {},
   "source": [
    "### Hipothesis test (Detection)"
   ]
  },
  {
   "cell_type": "markdown",
   "id": "fc2a1f82-9f2e-455f-98e5-b0b1db2a60a9",
   "metadata": {},
   "source": [
    "__Define the hypothesis:__\n",
    "\n",
    "Null Hypothesis (H0): There is no difference in the effectiveness between the unified approach and existing alternative approaches for detecting order-dependent test flakiness.\n",
    "\n",
    "Alternative Hypothesis (H1): There is a difference in the effectiveness between the unified approach and existing alternative approaches for detecting order-dependent test flakiness.\n",
    "\n",
    "__Select the significance level:__\n",
    "\n",
    "5%.\n",
    "\n",
    "__Verify normality of the data using the Shapiro–Wilk test__"
   ]
  },
  {
   "cell_type": "code",
   "execution_count": 45,
   "id": "9008500a-9c28-4ce4-bf7d-81595909173b",
   "metadata": {},
   "outputs": [
    {
     "name": "stdout",
     "output_type": "stream",
     "text": [
      "Shapiro-Wilk Test for isolated_detection_OD_recall:\n",
      "p-value: 0.001281676592161565\n",
      "\n",
      "Shapiro-Wilk Test integrated_detection_OD_recall:\n",
      "p-value: 0.0014673270193433048\n"
     ]
    }
   ],
   "source": [
    "isolated_detection_OD_recall = data['isolated_detection_OD_recall']\n",
    "integrated_detection_OD_recall = data['integrated_detection_OD_recall']\n",
    "\n",
    "# Shapiro-Wilk for isolated_detection_OD_recall\n",
    "stat_isolated, p_isolated = shapiro(isolated_detection_OD_recall)\n",
    "print(\"Shapiro-Wilk Test for isolated_detection_OD_recall:\")\n",
    "print(\"p-value:\", p_isolated)\n",
    "\n",
    "# Shapiro-Wilk test for integrated_detection_OD_recall\n",
    "stat_integrated, p_integrated = shapiro(integrated_detection_OD_recall)\n",
    "print(\"\\nShapiro-Wilk Test integrated_detection_OD_recall:\")\n",
    "print(\"p-value:\", p_integrated)"
   ]
  },
  {
   "cell_type": "markdown",
   "id": "3374a6b9-5227-4a74-b7fc-93663e0ab8f5",
   "metadata": {},
   "source": [
    "Since both p-values are less than the defined significance level, we reject the null hypothesis for both data groups. This suggests that the data for both isolated and integrated detection recall are not normally distributed. \n",
    "\n",
    "Considering this, to validate the hipothesis the Wilcoxon signed-rank test will be used.\n",
    "\n",
    "__Wilcoxon signed-rank test__"
   ]
  },
  {
   "cell_type": "code",
   "execution_count": 54,
   "id": "f3249581-0b70-4b27-bc11-2708bfe36555",
   "metadata": {},
   "outputs": [
    {
     "name": "stdout",
     "output_type": "stream",
     "text": [
      "Wilcoxon Signed-Rank Test:\n",
      "p-value: 0.5929800980174267\n"
     ]
    }
   ],
   "source": [
    "statistic, p_value = wilcoxon(isolated_detection_OD_recall, integrated_detection_OD_recall)\n",
    "print(\"Wilcoxon Signed-Rank Test:\")\n",
    "print(\"p-value:\", p_value)"
   ]
  },
  {
   "cell_type": "markdown",
   "id": "d2a14513-f1bb-44d3-a35d-cce88463a7cc",
   "metadata": {},
   "source": [
    "Since the p-value is superior to the defined significance level, we fail to reject the null hypothesis. \n",
    "As such, the detection component of the integration seems to be as effective in terms of identifying the flaky tests as it is when isolated."
   ]
  },
  {
   "cell_type": "markdown",
   "id": "98510279-c973-4edf-8f80-e21eb2b980e0",
   "metadata": {},
   "source": [
    "### Hipothesis test (Repair)"
   ]
  },
  {
   "cell_type": "markdown",
   "id": "f9516726-ce4c-42d4-98d4-9f1867b4e8cb",
   "metadata": {},
   "source": [
    "__Define the hypothesis:__\n",
    "\n",
    "Null Hypothesis (H0): There is no difference in the effectiveness between the unified approach and existing alternative approaches for repairing order-dependent test flakiness.\n",
    "\n",
    "Alternative Hypothesis (H1): There is a difference in the effectiveness between the unified approach and existing alternative approaches for repairing order-dependent test flakiness.\n",
    "\n",
    "__Select the significance level:__\n",
    "\n",
    "5%.\n",
    "\n",
    "__Verify normality of the data using the Shapiro–Wilk test__"
   ]
  },
  {
   "cell_type": "code",
   "execution_count": 49,
   "id": "0d613f99-3f41-4cd3-82c1-c476402e1671",
   "metadata": {},
   "outputs": [
    {
     "name": "stdout",
     "output_type": "stream",
     "text": [
      "Shapiro-Wilk Test for isolated_repair_recall:\n",
      "p-value: 2.4309789957156995e-07\n",
      "\n",
      "Shapiro-Wilk Test integrated_repair_recall:\n",
      "p-value: 1.0036928213864587e-07\n"
     ]
    }
   ],
   "source": [
    "isolated_repair_recall = data['isolated_repair_recall']\n",
    "integrated_repair_recall = data['integrated_repair_recall']\n",
    "\n",
    "# Shapiro-Wilk for isolated_repair_recall\n",
    "stat_isolated, p_isolated = shapiro(isolated_repair_recall)\n",
    "print(\"Shapiro-Wilk Test for isolated_repair_recall:\")\n",
    "print(\"p-value:\", p_isolated)\n",
    "\n",
    "# Shapiro-Wilk test for integrated_repair_recall\n",
    "stat_integrated, p_integrated = shapiro(integrated_repair_recall)\n",
    "print(\"\\nShapiro-Wilk Test integrated_repair_recall:\")\n",
    "print(\"p-value:\", p_integrated)"
   ]
  },
  {
   "cell_type": "markdown",
   "id": "cc896200-3bec-4682-9a4b-cf0c303dea27",
   "metadata": {},
   "source": [
    "Since both p-values are less than the defined significance level, we reject the null hypothesis for both data groups. This suggests that the data for both isolated and integrated repair recall are not normally distributed. \n",
    "\n",
    "Considering this, to validate the hipothesis the Wilcoxon signed-rank test will be used.\n",
    "\n",
    "__Wilcoxon signed-rank test__"
   ]
  },
  {
   "cell_type": "code",
   "execution_count": 50,
   "id": "e25b05c5-4e71-4e9b-8a83-67b61240a763",
   "metadata": {},
   "outputs": [
    {
     "name": "stdout",
     "output_type": "stream",
     "text": [
      "Wilcoxon Signed-Rank Test:\n",
      "p-value: 0.17971249487899976\n"
     ]
    }
   ],
   "source": [
    "statistic, p_value = wilcoxon(isolated_repair_recall, integrated_repair_recall)\n",
    "print(\"Wilcoxon Signed-Rank Test:\")\n",
    "print(\"p-value:\", p_value)"
   ]
  },
  {
   "cell_type": "markdown",
   "id": "35ff3ce3-d1ff-4db5-b0ed-bb59871e5348",
   "metadata": {},
   "source": [
    "Since the p-value is superior to the defined significance level, we fail to reject the null hypothesis. \n",
    "As such, the detection component of the integration seems to be as effective in terms of repairing the flaky tests as it is when isolated."
   ]
  },
  {
   "cell_type": "markdown",
   "id": "d66ebb47-f5f6-41ed-a9e1-707ba1495601",
   "metadata": {},
   "source": [
    "### Conclusion"
   ]
  },
  {
   "cell_type": "markdown",
   "id": "3e113d69-5897-4681-ae1c-955dbbb1431d",
   "metadata": {},
   "source": [
    "A unified approach for detecting and repairing flakiness caused by order-dependents tests can be as effective as the existing alternative and isolated alternatives both in terms of detection and repair."
   ]
  },
  {
   "cell_type": "markdown",
   "id": "123b33c1-ac5e-4e45-b25a-4cc8a174be03",
   "metadata": {},
   "source": [
    "# Addressing MQ3"
   ]
  },
  {
   "cell_type": "markdown",
   "id": "75be3f8d-c90a-442e-8143-9b7930c52f50",
   "metadata": {},
   "source": [
    "MQ3: Can a unified approach for detecting and repairing flakiness caused by order-dependent tests be less time-consuming than the existing alternative approaches?"
   ]
  },
  {
   "cell_type": "markdown",
   "id": "a95b2040-d278-4bb2-9d4c-b6f5f66002c4",
   "metadata": {},
   "source": [
    "### Hipothesis test (Including Hive)"
   ]
  },
  {
   "cell_type": "markdown",
   "id": "8ebc1f1a-64dc-4cfc-ac0d-e387e8529c21",
   "metadata": {},
   "source": [
    "__Define the hypothesis:__\n",
    "\n",
    "Null Hypothesis (H0): There is no difference in the time taken between the unified approach and existing alternative approaches for detecting and repairing order-dependent test flakiness.\n",
    "\n",
    "Alternative Hypothesis (H1): There is a difference in the time taken between the unified approach and existing alternative approaches for detecting and repairing order-dependent test flakiness.\n",
    "\n",
    "__Select the significance level:__\n",
    "\n",
    "5%.\n",
    "\n",
    "__Verify normality of the data using the Shapiro–Wilk test__"
   ]
  },
  {
   "cell_type": "code",
   "execution_count": 53,
   "id": "be0f3d60-675e-4b7e-9aa7-5a64ed43c9f9",
   "metadata": {},
   "outputs": [
    {
     "name": "stdout",
     "output_type": "stream",
     "text": [
      "Shapiro-Wilk Test for sum_isolated_time:\n",
      "p-value: 0.005632316702184004\n",
      "\n",
      "Shapiro-Wilk Test integrated_total_time:\n",
      "p-value: 0.10583784750839886\n"
     ]
    }
   ],
   "source": [
    "sum_isolated_time = data['sum_isolated_time']\n",
    "integrated_total_time = data['integrated_total_time']\n",
    "\n",
    "# Shapiro-Wilk for sum_isolated_time\n",
    "stat_isolated, p_isolated = shapiro(sum_isolated_time)\n",
    "print(\"Shapiro-Wilk Test for sum_isolated_time:\")\n",
    "print(\"p-value:\", p_isolated)\n",
    "\n",
    "# Shapiro-Wilk test for integrated_total_time\n",
    "stat_integrated, p_integrated = shapiro(integrated_total_time)\n",
    "print(\"\\nShapiro-Wilk Test integrated_total_time:\")\n",
    "print(\"p-value:\", p_integrated)"
   ]
  },
  {
   "cell_type": "markdown",
   "id": "61cf3e55-8edf-4aa8-9fa5-c4f517a039ec",
   "metadata": {},
   "source": [
    "While the p-value of the sum of the integrated execution time is higher than the defined significance level, indicating that it is normally distributed, the p-value of the sum of the isolated execution times is lower than the defined significance level therefore not being normally distributed.\n",
    "\n",
    "Since one of the groups is not normally distributed, the Wilcoxon signed-rank test will be used to validate the hipothesis.\n",
    "\n",
    "__Wilcoxon signed-rank test__"
   ]
  },
  {
   "cell_type": "code",
   "execution_count": 55,
   "id": "101d3646-518e-4584-ac67-aef1fa31efc9",
   "metadata": {},
   "outputs": [
    {
     "name": "stdout",
     "output_type": "stream",
     "text": [
      "Wilcoxon Signed-Rank Test:\n",
      "p-value: 0.21352435403618242\n"
     ]
    }
   ],
   "source": [
    "statistic, p_value = wilcoxon(sum_isolated_time, integrated_total_time)\n",
    "print(\"Wilcoxon Signed-Rank Test:\")\n",
    "print(\"p-value:\", p_value)"
   ]
  },
  {
   "cell_type": "markdown",
   "id": "059012c6-87b3-453c-ae55-2863d08a4a8e",
   "metadata": {},
   "source": [
    "Since the p-value is superior to the defined significance level, we fail to reject the null hypothesis. \n",
    "As such, there does not seem to be a statistically significant difference in the time taken between the unified approach and the existing alternative approaches for detecting and repairing order-dependent test flakiness."
   ]
  },
  {
   "cell_type": "markdown",
   "id": "29019b29-8d1c-4966-a5cd-882d6d3ab462",
   "metadata": {},
   "source": [
    "### Hipothesis test (Exclusing Hive)"
   ]
  },
  {
   "cell_type": "markdown",
   "id": "e136a8a7-9e5d-48a4-a004-0f492bdca34f",
   "metadata": {},
   "source": [
    "__Define the hypothesis:__\n",
    "\n",
    "Null Hypothesis (H0): There is no difference in the time taken between the unified approach and existing alternative approaches for detecting and repairing order-dependent test flakiness.\n",
    "\n",
    "Alternative Hypothesis (H1): There is a difference in the time taken between the unified approach and existing alternative approaches for detecting and repairing order-dependent test flakiness.\n",
    "\n",
    "__Select the significance level:__\n",
    "\n",
    "5%.\n",
    "\n",
    "__Verify normality of the data using the Shapiro–Wilk test__"
   ]
  },
  {
   "cell_type": "code",
   "execution_count": 58,
   "id": "be32ff47-6d0f-4237-afed-0dea3b9fcdb9",
   "metadata": {},
   "outputs": [
    {
     "name": "stdout",
     "output_type": "stream",
     "text": [
      "Shapiro-Wilk Test for sum_isolated_time:\n",
      "p-value: 0.25234480140365034\n",
      "\n",
      "Shapiro-Wilk Test integrated_total_time:\n",
      "p-value: 0.1609466302956885\n"
     ]
    }
   ],
   "source": [
    "sum_isolated_time = dataExclHive['sum_isolated_time']\n",
    "integrated_total_time = dataExclHive['integrated_total_time']\n",
    "\n",
    "# Shapiro-Wilk for sum_isolated_time\n",
    "stat_isolated, p_isolated = shapiro(sum_isolated_time)\n",
    "print(\"Shapiro-Wilk Test for sum_isolated_time:\")\n",
    "print(\"p-value:\", p_isolated)\n",
    "\n",
    "# Shapiro-Wilk test for integrated_total_time\n",
    "stat_integrated, p_integrated = shapiro(integrated_total_time)\n",
    "print(\"\\nShapiro-Wilk Test integrated_total_time:\")\n",
    "print(\"p-value:\", p_integrated)"
   ]
  },
  {
   "cell_type": "markdown",
   "id": "759d87db-2df3-4cdd-9491-37ae7a3a4991",
   "metadata": {},
   "source": [
    "Excluding the hive project due to its anomalous execution results in both data groups having a p-value higher than the defined significance level, indicating that they are normally distributed. \n",
    "\n",
    "Since both groups are normally distributed, the paired t-test will be used to validate the hipothesis.\n",
    "\n",
    "__Paired t-test__"
   ]
  },
  {
   "cell_type": "code",
   "execution_count": 60,
   "id": "35af1c73-bbc2-4f3b-9733-6e42e5aa45a6",
   "metadata": {},
   "outputs": [
    {
     "name": "stdout",
     "output_type": "stream",
     "text": [
      "Paired t-Test for Time Comparison:\n",
      "p-value: 0.46728123446021697\n"
     ]
    }
   ],
   "source": [
    "statistic, p_value = ttest_rel(sum_isolated_time, integrated_total_time)\n",
    "print(\"Paired t-Test for Time Comparison:\")\n",
    "print(\"p-value:\", p_value)"
   ]
  },
  {
   "cell_type": "markdown",
   "id": "62184a7c-3ccc-4ceb-a8df-4eafa5c43a1d",
   "metadata": {},
   "source": [
    "Since the p-value is superior to the defined significance level, we fail to reject the null hypothesis. \n",
    "As such, there does not seem to be a statistically significant difference in the time taken between the unified approach and the existing alternative approaches for detecting and repairing order-dependent test flakiness."
   ]
  },
  {
   "cell_type": "markdown",
   "id": "cbb4bb43-f692-4a5a-94e4-57505751b528",
   "metadata": {},
   "source": [
    "### Conclusion"
   ]
  },
  {
   "cell_type": "markdown",
   "id": "55e00cc6-95b8-4036-9227-18574e4929ad",
   "metadata": {},
   "source": [
    "Regardless of considering the hive project, a unified approach for detecting and repairing flakiness caused by order-dependents tests can be as time-consuming as the existing alternative and isolated alternatives both in terms of detection and repair."
   ]
  },
  {
   "cell_type": "code",
   "execution_count": null,
   "id": "56e5475a-fccc-4831-82f3-4686876ba746",
   "metadata": {},
   "outputs": [],
   "source": []
  }
 ],
 "metadata": {
  "kernelspec": {
   "display_name": "Python 3 (ipykernel)",
   "language": "python",
   "name": "python3"
  },
  "language_info": {
   "codemirror_mode": {
    "name": "ipython",
    "version": 3
   },
   "file_extension": ".py",
   "mimetype": "text/x-python",
   "name": "python",
   "nbconvert_exporter": "python",
   "pygments_lexer": "ipython3",
   "version": "3.12.2"
  }
 },
 "nbformat": 4,
 "nbformat_minor": 5
}
