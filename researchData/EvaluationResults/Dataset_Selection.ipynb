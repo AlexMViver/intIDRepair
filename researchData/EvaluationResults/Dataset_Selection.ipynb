{
 "cells": [
  {
   "cell_type": "markdown",
   "id": "859c2896-ee70-4c2d-9575-2872c761d2c5",
   "metadata": {},
   "source": [
    "Define imports"
   ]
  },
  {
   "cell_type": "code",
   "execution_count": 1,
   "id": "4efc03b2-29c6-4180-aa0c-243cb0879ff0",
   "metadata": {},
   "outputs": [],
   "source": [
    "import pandas as pd\n",
    "import random"
   ]
  },
  {
   "cell_type": "markdown",
   "id": "5206285a-57d5-416d-9e74-e17dca7ae59c",
   "metadata": {},
   "source": [
    "Read dataset file"
   ]
  },
  {
   "cell_type": "code",
   "execution_count": 2,
   "id": "73be8bf9-e262-40bf-888a-325f1de52847",
   "metadata": {},
   "outputs": [],
   "source": [
    "dataset_file_path = 'input/pr-data.csv'"
   ]
  },
  {
   "cell_type": "code",
   "execution_count": 3,
   "id": "1636197a-1bf4-451d-a459-5a24ed886194",
   "metadata": {},
   "outputs": [],
   "source": [
    "df = pd.read_csv(dataset_file_path)"
   ]
  },
  {
   "cell_type": "code",
   "execution_count": 4,
   "id": "83e6944f-f67b-4d0c-b329-b004ed562004",
   "metadata": {},
   "outputs": [
    {
     "data": {
      "text/plain": [
       "(6387, 8)"
      ]
     },
     "execution_count": 4,
     "metadata": {},
     "output_type": "execute_result"
    }
   ],
   "source": [
    "df.shape"
   ]
  },
  {
   "cell_type": "markdown",
   "id": "b790db0d-2cdf-4a69-b4f2-668caece7ee5",
   "metadata": {},
   "source": [
    "Randomly obtain 10 projects"
   ]
  },
  {
   "cell_type": "code",
   "execution_count": 5,
   "id": "92f06bbf-6d5a-4c89-9fae-161e22f4965a",
   "metadata": {},
   "outputs": [],
   "source": [
    "# Define a seed to make this replicable\n",
    "seed_value = 321"
   ]
  },
  {
   "cell_type": "code",
   "execution_count": 6,
   "id": "041ebf2f-b788-434c-b856-526bfb856bdf",
   "metadata": {},
   "outputs": [],
   "source": [
    "# Filter out projects that do not contain at least 10 OD tests to ensure a minimum of 100 in the dataset\n",
    "projects_with_od_count = df.groupby([\"Project URL\",\"SHA Detected\"])['Category'].apply(lambda x: (x.isin(['OD', 'OD-Brit', 'OD-Vic'])).sum() >= 10).reset_index(name='Min 10 OD Tests')\n",
    "filtered_projects = projects_with_od_count[projects_with_od_count['Min 10 OD Tests']]\n",
    "filtered_projects = filtered_projects.drop(columns=['Min 10 OD Tests'])\n"
   ]
  },
  {
   "cell_type": "code",
   "execution_count": 7,
   "id": "5fc8700e-c2bc-404e-972a-274b08dc56a8",
   "metadata": {},
   "outputs": [
    {
     "data": {
      "text/html": [
       "<div>\n",
       "<style scoped>\n",
       "    .dataframe tbody tr th:only-of-type {\n",
       "        vertical-align: middle;\n",
       "    }\n",
       "\n",
       "    .dataframe tbody tr th {\n",
       "        vertical-align: top;\n",
       "    }\n",
       "\n",
       "    .dataframe thead th {\n",
       "        text-align: right;\n",
       "    }\n",
       "</style>\n",
       "<table border=\"1\" class=\"dataframe\">\n",
       "  <thead>\n",
       "    <tr style=\"text-align: right;\">\n",
       "      <th></th>\n",
       "      <th>Project URL</th>\n",
       "      <th>SHA Detected</th>\n",
       "    </tr>\n",
       "  </thead>\n",
       "  <tbody>\n",
       "    <tr>\n",
       "      <th>508</th>\n",
       "      <td>https://github.com/spring-cloud/spring-cloud-n...</td>\n",
       "      <td>dc67500445d3ce7382771e39b64ca93bbebc04c7</td>\n",
       "    </tr>\n",
       "    <tr>\n",
       "      <th>399</th>\n",
       "      <td>https://github.com/json-iterator/java</td>\n",
       "      <td>6925cf4c19d313504b416f58a349a36bf563e0e1</td>\n",
       "    </tr>\n",
       "    <tr>\n",
       "      <th>141</th>\n",
       "      <td>https://github.com/apache/archiva</td>\n",
       "      <td>292dbe1bb4323dd299d36b78f37d9c1d55c889f8</td>\n",
       "    </tr>\n",
       "    <tr>\n",
       "      <th>229</th>\n",
       "      <td>https://github.com/apache/nifi</td>\n",
       "      <td>12015a17dd93a1d42c9d6ddab6cc5ce606fef16a</td>\n",
       "    </tr>\n",
       "    <tr>\n",
       "      <th>213</th>\n",
       "      <td>https://github.com/apache/incubator-ratis</td>\n",
       "      <td>bc9d7615d8ffa30e79a36b9fd1950af38f0f6a49</td>\n",
       "    </tr>\n",
       "    <tr>\n",
       "      <th>119</th>\n",
       "      <td>https://github.com/alibaba/fastjson</td>\n",
       "      <td>e05e9c5e4be580691cc55a59f3256595393203a1</td>\n",
       "    </tr>\n",
       "    <tr>\n",
       "      <th>134</th>\n",
       "      <td>https://github.com/alibaba/wasp</td>\n",
       "      <td>b2593d8e4b31ca6da0cd2f3e18356338d9b6dace</td>\n",
       "    </tr>\n",
       "    <tr>\n",
       "      <th>1</th>\n",
       "      <td>https://github.com/Activiti/Activiti</td>\n",
       "      <td>b11f757a48600e53aaf3fcb7a3ba1ece6c463cb4</td>\n",
       "    </tr>\n",
       "    <tr>\n",
       "      <th>201</th>\n",
       "      <td>https://github.com/apache/hive</td>\n",
       "      <td>54e43339dd671018fc70ebb5d9f0b292d70391a6</td>\n",
       "    </tr>\n",
       "    <tr>\n",
       "      <th>507</th>\n",
       "      <td>https://github.com/spring-cloud/spring-cloud-k...</td>\n",
       "      <td>3351926041a630aee0961ba0e1be8f035e4ba2ca</td>\n",
       "    </tr>\n",
       "  </tbody>\n",
       "</table>\n",
       "</div>"
      ],
      "text/plain": [
       "                                           Project URL  \\\n",
       "508  https://github.com/spring-cloud/spring-cloud-n...   \n",
       "399              https://github.com/json-iterator/java   \n",
       "141                  https://github.com/apache/archiva   \n",
       "229                     https://github.com/apache/nifi   \n",
       "213          https://github.com/apache/incubator-ratis   \n",
       "119                https://github.com/alibaba/fastjson   \n",
       "134                    https://github.com/alibaba/wasp   \n",
       "1                 https://github.com/Activiti/Activiti   \n",
       "201                     https://github.com/apache/hive   \n",
       "507  https://github.com/spring-cloud/spring-cloud-k...   \n",
       "\n",
       "                                 SHA Detected  \n",
       "508  dc67500445d3ce7382771e39b64ca93bbebc04c7  \n",
       "399  6925cf4c19d313504b416f58a349a36bf563e0e1  \n",
       "141  292dbe1bb4323dd299d36b78f37d9c1d55c889f8  \n",
       "229  12015a17dd93a1d42c9d6ddab6cc5ce606fef16a  \n",
       "213  bc9d7615d8ffa30e79a36b9fd1950af38f0f6a49  \n",
       "119  e05e9c5e4be580691cc55a59f3256595393203a1  \n",
       "134  b2593d8e4b31ca6da0cd2f3e18356338d9b6dace  \n",
       "1    b11f757a48600e53aaf3fcb7a3ba1ece6c463cb4  \n",
       "201  54e43339dd671018fc70ebb5d9f0b292d70391a6  \n",
       "507  3351926041a630aee0961ba0e1be8f035e4ba2ca  "
      ]
     },
     "execution_count": 7,
     "metadata": {},
     "output_type": "execute_result"
    }
   ],
   "source": [
    "# Randomly sample 10 projects\n",
    "sampled_projects = filtered_projects.sample(n=10, random_state=seed_value)\n",
    "sampled_projects"
   ]
  },
  {
   "cell_type": "markdown",
   "id": "0de17ed2-15f6-4038-9d35-5051e5b893a8",
   "metadata": {},
   "source": [
    "Experimentation with the dataset led to the discovery that there are 3 of the selected projects with artifacts no longer resolvable for the detected SHAs. Therefore 3 more projects will be sampled"
   ]
  },
  {
   "cell_type": "code",
   "execution_count": 8,
   "id": "980d4896-617c-4e8d-a53d-1b4e2a3f7d5f",
   "metadata": {},
   "outputs": [
    {
     "data": {
      "text/html": [
       "<div>\n",
       "<style scoped>\n",
       "    .dataframe tbody tr th:only-of-type {\n",
       "        vertical-align: middle;\n",
       "    }\n",
       "\n",
       "    .dataframe tbody tr th {\n",
       "        vertical-align: top;\n",
       "    }\n",
       "\n",
       "    .dataframe thead th {\n",
       "        text-align: right;\n",
       "    }\n",
       "</style>\n",
       "<table border=\"1\" class=\"dataframe\">\n",
       "  <thead>\n",
       "    <tr style=\"text-align: right;\">\n",
       "      <th></th>\n",
       "      <th>Project URL</th>\n",
       "      <th>SHA Detected</th>\n",
       "    </tr>\n",
       "  </thead>\n",
       "  <tbody>\n",
       "    <tr>\n",
       "      <th>96</th>\n",
       "      <td>https://github.com/Thomas-S-B/visualee</td>\n",
       "      <td>88732d9dbe5031dad9c9f85a4c4b35e5f1551f95</td>\n",
       "    </tr>\n",
       "    <tr>\n",
       "      <th>379</th>\n",
       "      <td>https://github.com/j256/ormlite-core</td>\n",
       "      <td>632b87c2a455b8eab4a6c09324e1f166273588d8</td>\n",
       "    </tr>\n",
       "    <tr>\n",
       "      <th>260</th>\n",
       "      <td>https://github.com/apache/shardingsphere-elast...</td>\n",
       "      <td>bdfcaff0c1a702c3ecb44adf46d609a3f0e86c5e</td>\n",
       "    </tr>\n",
       "  </tbody>\n",
       "</table>\n",
       "</div>"
      ],
      "text/plain": [
       "                                           Project URL  \\\n",
       "96              https://github.com/Thomas-S-B/visualee   \n",
       "379               https://github.com/j256/ormlite-core   \n",
       "260  https://github.com/apache/shardingsphere-elast...   \n",
       "\n",
       "                                 SHA Detected  \n",
       "96   88732d9dbe5031dad9c9f85a4c4b35e5f1551f95  \n",
       "379  632b87c2a455b8eab4a6c09324e1f166273588d8  \n",
       "260  bdfcaff0c1a702c3ecb44adf46d609a3f0e86c5e  "
      ]
     },
     "execution_count": 8,
     "metadata": {},
     "output_type": "execute_result"
    }
   ],
   "source": [
    "filtered_projects = filtered_projects[~filtered_projects.index.isin(sampled_projects.index)]\n",
    "additional_projects =  filtered_projects.sample(n=3, random_state=seed_value)\n",
    "additional_projects"
   ]
  },
  {
   "cell_type": "markdown",
   "id": "ad16c4ff-3751-4a35-b9d0-c9f684dddcf8",
   "metadata": {},
   "source": [
    "Experimentation with the dataset led to the discovery that 1 of the additional selected projects has artifacts no longer resolvable for the detected SHA. Therefore 1 more project will be sampled"
   ]
  },
  {
   "cell_type": "code",
   "execution_count": 9,
   "id": "8fe61224-0039-4679-9163-6e85d27fcda5",
   "metadata": {},
   "outputs": [
    {
     "data": {
      "text/html": [
       "<div>\n",
       "<style scoped>\n",
       "    .dataframe tbody tr th:only-of-type {\n",
       "        vertical-align: middle;\n",
       "    }\n",
       "\n",
       "    .dataframe tbody tr th {\n",
       "        vertical-align: top;\n",
       "    }\n",
       "\n",
       "    .dataframe thead th {\n",
       "        text-align: right;\n",
       "    }\n",
       "</style>\n",
       "<table border=\"1\" class=\"dataframe\">\n",
       "  <thead>\n",
       "    <tr style=\"text-align: right;\">\n",
       "      <th></th>\n",
       "      <th>Project URL</th>\n",
       "      <th>SHA Detected</th>\n",
       "    </tr>\n",
       "  </thead>\n",
       "  <tbody>\n",
       "    <tr>\n",
       "      <th>389</th>\n",
       "      <td>https://github.com/jenkinsci/remoting</td>\n",
       "      <td>abf0455a68ad6c52a57e912bb89d51f883f77542</td>\n",
       "    </tr>\n",
       "  </tbody>\n",
       "</table>\n",
       "</div>"
      ],
      "text/plain": [
       "                               Project URL  \\\n",
       "389  https://github.com/jenkinsci/remoting   \n",
       "\n",
       "                                 SHA Detected  \n",
       "389  abf0455a68ad6c52a57e912bb89d51f883f77542  "
      ]
     },
     "execution_count": 9,
     "metadata": {},
     "output_type": "execute_result"
    }
   ],
   "source": [
    "filtered_projects = filtered_projects[~filtered_projects.index.isin(additional_projects.index)]\n",
    "additional_projects2 =  filtered_projects.sample(n=1, random_state=seed_value)\n",
    "additional_projects2"
   ]
  },
  {
   "cell_type": "markdown",
   "id": "10867e5a-17af-4734-b06c-8e2bb1804923",
   "metadata": {},
   "source": [
    "Remove all projects with unresolvable artifacts"
   ]
  },
  {
   "cell_type": "code",
   "execution_count": 13,
   "id": "5fd17d96-3794-4a1c-8ebf-b70ee6ba899b",
   "metadata": {},
   "outputs": [],
   "source": [
    "sampled_projects = sampled_projects[~sampled_projects.index.isin([1, 141, 213])]\n",
    "additional_projects = additional_projects[~additional_projects.index.isin([260])]\n",
    "final_projects = pd.concat([sampled_projects, additional_projects, additional_projects2], axis=0)"
   ]
  },
  {
   "cell_type": "markdown",
   "id": "f5aee4f1-6bbd-485e-82ea-fbae68002e10",
   "metadata": {},
   "source": [
    "Export to Projects.csv"
   ]
  },
  {
   "cell_type": "code",
   "execution_count": 14,
   "id": "ada8b6c5-fcdd-4b03-89f5-83d2961276ef",
   "metadata": {},
   "outputs": [],
   "source": [
    "final_projects.to_csv('output/Projects.csv', index=False)"
   ]
  },
  {
   "cell_type": "markdown",
   "id": "0c228e62-d145-4d4b-852c-ecf77527ea1f",
   "metadata": {},
   "source": [
    "Obtain dataframe with all the selected project's tests"
   ]
  },
  {
   "cell_type": "code",
   "execution_count": 15,
   "id": "7bc16c85-09dd-4776-b41d-ea849339d4b5",
   "metadata": {},
   "outputs": [
    {
     "name": "stdout",
     "output_type": "stream",
     "text": [
      "Total tests amount:\n",
      "444\n",
      "OD tests amount:\n",
      "287\n",
      "OD proportion:\n",
      "64.64 %\n"
     ]
    }
   ],
   "source": [
    "selected_projects= final_projects[['Project URL', 'SHA Detected']]\n",
    "selected_tests = df[(df['SHA Detected'].isin(selected_projects['SHA Detected'])) & \n",
    "                    (df['Project URL'].isin(selected_projects['Project URL']))]\n",
    "\n",
    "selected_tests.reset_index(drop=True, inplace=True)\n",
    "# Display the selected tests\n",
    "print(\"Total tests amount:\")\n",
    "print(selected_tests.shape[0])\n",
    "\n",
    "od_tests_count = selected_tests[selected_tests['Category'].isin(['OD', 'OD-Brit', 'OD-Vic'])].shape[0]\n",
    "print(\"OD tests amount:\")\n",
    "print(od_tests_count)\n",
    "print(\"OD proportion:\")\n",
    "print(round(od_tests_count/selected_tests.shape[0]*100,2),\"%\")"
   ]
  },
  {
   "cell_type": "markdown",
   "id": "090d8baf-b23f-4195-b65e-ff63ecbcc25c",
   "metadata": {},
   "source": [
    "Export to Tests.csv"
   ]
  },
  {
   "cell_type": "code",
   "execution_count": 16,
   "id": "9cde1e44-45a8-4a06-b5a5-654d95490d47",
   "metadata": {},
   "outputs": [
    {
     "data": {
      "text/html": [
       "<div>\n",
       "<style scoped>\n",
       "    .dataframe tbody tr th:only-of-type {\n",
       "        vertical-align: middle;\n",
       "    }\n",
       "\n",
       "    .dataframe tbody tr th {\n",
       "        vertical-align: top;\n",
       "    }\n",
       "\n",
       "    .dataframe thead th {\n",
       "        text-align: right;\n",
       "    }\n",
       "</style>\n",
       "<table border=\"1\" class=\"dataframe\">\n",
       "  <thead>\n",
       "    <tr style=\"text-align: right;\">\n",
       "      <th></th>\n",
       "      <th>Project URL</th>\n",
       "      <th>SHA Detected</th>\n",
       "      <th>Module Path</th>\n",
       "      <th>Fully-Qualified Test Name (packageName.ClassName.methodName)</th>\n",
       "      <th>Category</th>\n",
       "      <th>Status</th>\n",
       "      <th>PR Link</th>\n",
       "      <th>Notes</th>\n",
       "    </tr>\n",
       "  </thead>\n",
       "  <tbody>\n",
       "    <tr>\n",
       "      <th>0</th>\n",
       "      <td>https://github.com/alibaba/fastjson</td>\n",
       "      <td>e05e9c5e4be580691cc55a59f3256595393203a1</td>\n",
       "      <td>.</td>\n",
       "      <td>com.alibaba.json.bvt.asm.SortFieldTest.test_1</td>\n",
       "      <td>ID</td>\n",
       "      <td>Opened</td>\n",
       "      <td>https://github.com/alibaba/fastjson/pull/3525</td>\n",
       "      <td>https://github.com/TestingResearchIllinois/ido...</td>\n",
       "    </tr>\n",
       "    <tr>\n",
       "      <th>1</th>\n",
       "      <td>https://github.com/alibaba/fastjson</td>\n",
       "      <td>e05e9c5e4be580691cc55a59f3256595393203a1</td>\n",
       "      <td>.</td>\n",
       "      <td>com.alibaba.json.bvt.bug.Bug_for_smoothrat6.te...</td>\n",
       "      <td>ID</td>\n",
       "      <td>Accepted</td>\n",
       "      <td>https://github.com/alibaba/fastjson/pull/3117</td>\n",
       "      <td>NaN</td>\n",
       "    </tr>\n",
       "    <tr>\n",
       "      <th>2</th>\n",
       "      <td>https://github.com/alibaba/fastjson</td>\n",
       "      <td>e05e9c5e4be580691cc55a59f3256595393203a1</td>\n",
       "      <td>.</td>\n",
       "      <td>com.alibaba.json.bvt.bug.Issue_717.test_for_issue</td>\n",
       "      <td>OD</td>\n",
       "      <td>NaN</td>\n",
       "      <td>NaN</td>\n",
       "      <td>NaN</td>\n",
       "    </tr>\n",
       "    <tr>\n",
       "      <th>3</th>\n",
       "      <td>https://github.com/alibaba/fastjson</td>\n",
       "      <td>e05e9c5e4be580691cc55a59f3256595393203a1</td>\n",
       "      <td>.</td>\n",
       "      <td>com.alibaba.json.bvt.date.DateTest.test_date</td>\n",
       "      <td>OD</td>\n",
       "      <td>Accepted</td>\n",
       "      <td>https://github.com/alibaba/fastjson/pull/2148</td>\n",
       "      <td>NaN</td>\n",
       "    </tr>\n",
       "    <tr>\n",
       "      <th>4</th>\n",
       "      <td>https://github.com/alibaba/fastjson</td>\n",
       "      <td>e05e9c5e4be580691cc55a59f3256595393203a1</td>\n",
       "      <td>.</td>\n",
       "      <td>com.alibaba.json.bvt.date.DateTest_tz.test_codec</td>\n",
       "      <td>OD</td>\n",
       "      <td>Accepted</td>\n",
       "      <td>https://github.com/alibaba/fastjson/pull/2148</td>\n",
       "      <td>NaN</td>\n",
       "    </tr>\n",
       "    <tr>\n",
       "      <th>...</th>\n",
       "      <td>...</td>\n",
       "      <td>...</td>\n",
       "      <td>...</td>\n",
       "      <td>...</td>\n",
       "      <td>...</td>\n",
       "      <td>...</td>\n",
       "      <td>...</td>\n",
       "      <td>...</td>\n",
       "    </tr>\n",
       "    <tr>\n",
       "      <th>439</th>\n",
       "      <td>https://github.com/Thomas-S-B/visualee</td>\n",
       "      <td>88732d9dbe5031dad9c9f85a4c4b35e5f1551f95</td>\n",
       "      <td>visualee</td>\n",
       "      <td>de.strullerbaumann.visualee.ui.graph.boundary....</td>\n",
       "      <td>OD</td>\n",
       "      <td>Opened</td>\n",
       "      <td>https://github.com/Thomas-S-B/visualee/pull/8</td>\n",
       "      <td>https://github.com/TestingResearchIllinois/fla...</td>\n",
       "    </tr>\n",
       "    <tr>\n",
       "      <th>440</th>\n",
       "      <td>https://github.com/Thomas-S-B/visualee</td>\n",
       "      <td>88732d9dbe5031dad9c9f85a4c4b35e5f1551f95</td>\n",
       "      <td>visualee</td>\n",
       "      <td>de.strullerbaumann.visualee.ui.graph.boundary....</td>\n",
       "      <td>OD</td>\n",
       "      <td>Opened</td>\n",
       "      <td>https://github.com/Thomas-S-B/visualee/pull/8</td>\n",
       "      <td>https://github.com/TestingResearchIllinois/fla...</td>\n",
       "    </tr>\n",
       "    <tr>\n",
       "      <th>441</th>\n",
       "      <td>https://github.com/Thomas-S-B/visualee</td>\n",
       "      <td>88732d9dbe5031dad9c9f85a4c4b35e5f1551f95</td>\n",
       "      <td>visualee</td>\n",
       "      <td>de.strullerbaumann.visualee.ui.graph.boundary....</td>\n",
       "      <td>OD</td>\n",
       "      <td>Opened</td>\n",
       "      <td>https://github.com/Thomas-S-B/visualee/pull/8</td>\n",
       "      <td>https://github.com/TestingResearchIllinois/fla...</td>\n",
       "    </tr>\n",
       "    <tr>\n",
       "      <th>442</th>\n",
       "      <td>https://github.com/Thomas-S-B/visualee</td>\n",
       "      <td>88732d9dbe5031dad9c9f85a4c4b35e5f1551f95</td>\n",
       "      <td>visualee</td>\n",
       "      <td>de.strullerbaumann.visualee.ui.graph.control.D...</td>\n",
       "      <td>OD</td>\n",
       "      <td>Opened</td>\n",
       "      <td>https://github.com/Thomas-S-B/visualee/pull/8</td>\n",
       "      <td>https://github.com/TestingResearchIllinois/fla...</td>\n",
       "    </tr>\n",
       "    <tr>\n",
       "      <th>443</th>\n",
       "      <td>https://github.com/Thomas-S-B/visualee</td>\n",
       "      <td>88732d9dbe5031dad9c9f85a4c4b35e5f1551f95</td>\n",
       "      <td>visualee</td>\n",
       "      <td>de.strullerbaumann.visualee.ui.graph.control.D...</td>\n",
       "      <td>OD</td>\n",
       "      <td>Opened</td>\n",
       "      <td>https://github.com/Thomas-S-B/visualee/pull/8</td>\n",
       "      <td>https://github.com/TestingResearchIllinois/fla...</td>\n",
       "    </tr>\n",
       "  </tbody>\n",
       "</table>\n",
       "<p>444 rows × 8 columns</p>\n",
       "</div>"
      ],
      "text/plain": [
       "                                Project URL  \\\n",
       "0       https://github.com/alibaba/fastjson   \n",
       "1       https://github.com/alibaba/fastjson   \n",
       "2       https://github.com/alibaba/fastjson   \n",
       "3       https://github.com/alibaba/fastjson   \n",
       "4       https://github.com/alibaba/fastjson   \n",
       "..                                      ...   \n",
       "439  https://github.com/Thomas-S-B/visualee   \n",
       "440  https://github.com/Thomas-S-B/visualee   \n",
       "441  https://github.com/Thomas-S-B/visualee   \n",
       "442  https://github.com/Thomas-S-B/visualee   \n",
       "443  https://github.com/Thomas-S-B/visualee   \n",
       "\n",
       "                                 SHA Detected Module Path  \\\n",
       "0    e05e9c5e4be580691cc55a59f3256595393203a1           .   \n",
       "1    e05e9c5e4be580691cc55a59f3256595393203a1           .   \n",
       "2    e05e9c5e4be580691cc55a59f3256595393203a1           .   \n",
       "3    e05e9c5e4be580691cc55a59f3256595393203a1           .   \n",
       "4    e05e9c5e4be580691cc55a59f3256595393203a1           .   \n",
       "..                                        ...         ...   \n",
       "439  88732d9dbe5031dad9c9f85a4c4b35e5f1551f95    visualee   \n",
       "440  88732d9dbe5031dad9c9f85a4c4b35e5f1551f95    visualee   \n",
       "441  88732d9dbe5031dad9c9f85a4c4b35e5f1551f95    visualee   \n",
       "442  88732d9dbe5031dad9c9f85a4c4b35e5f1551f95    visualee   \n",
       "443  88732d9dbe5031dad9c9f85a4c4b35e5f1551f95    visualee   \n",
       "\n",
       "    Fully-Qualified Test Name (packageName.ClassName.methodName) Category  \\\n",
       "0        com.alibaba.json.bvt.asm.SortFieldTest.test_1                 ID   \n",
       "1    com.alibaba.json.bvt.bug.Bug_for_smoothrat6.te...                 ID   \n",
       "2    com.alibaba.json.bvt.bug.Issue_717.test_for_issue                 OD   \n",
       "3         com.alibaba.json.bvt.date.DateTest.test_date                 OD   \n",
       "4     com.alibaba.json.bvt.date.DateTest_tz.test_codec                 OD   \n",
       "..                                                 ...                ...   \n",
       "439  de.strullerbaumann.visualee.ui.graph.boundary....                 OD   \n",
       "440  de.strullerbaumann.visualee.ui.graph.boundary....                 OD   \n",
       "441  de.strullerbaumann.visualee.ui.graph.boundary....                 OD   \n",
       "442  de.strullerbaumann.visualee.ui.graph.control.D...                 OD   \n",
       "443  de.strullerbaumann.visualee.ui.graph.control.D...                 OD   \n",
       "\n",
       "       Status                                        PR Link  \\\n",
       "0      Opened  https://github.com/alibaba/fastjson/pull/3525   \n",
       "1    Accepted  https://github.com/alibaba/fastjson/pull/3117   \n",
       "2         NaN                                            NaN   \n",
       "3    Accepted  https://github.com/alibaba/fastjson/pull/2148   \n",
       "4    Accepted  https://github.com/alibaba/fastjson/pull/2148   \n",
       "..        ...                                            ...   \n",
       "439    Opened  https://github.com/Thomas-S-B/visualee/pull/8   \n",
       "440    Opened  https://github.com/Thomas-S-B/visualee/pull/8   \n",
       "441    Opened  https://github.com/Thomas-S-B/visualee/pull/8   \n",
       "442    Opened  https://github.com/Thomas-S-B/visualee/pull/8   \n",
       "443    Opened  https://github.com/Thomas-S-B/visualee/pull/8   \n",
       "\n",
       "                                                 Notes  \n",
       "0    https://github.com/TestingResearchIllinois/ido...  \n",
       "1                                                  NaN  \n",
       "2                                                  NaN  \n",
       "3                                                  NaN  \n",
       "4                                                  NaN  \n",
       "..                                                 ...  \n",
       "439  https://github.com/TestingResearchIllinois/fla...  \n",
       "440  https://github.com/TestingResearchIllinois/fla...  \n",
       "441  https://github.com/TestingResearchIllinois/fla...  \n",
       "442  https://github.com/TestingResearchIllinois/fla...  \n",
       "443  https://github.com/TestingResearchIllinois/fla...  \n",
       "\n",
       "[444 rows x 8 columns]"
      ]
     },
     "execution_count": 16,
     "metadata": {},
     "output_type": "execute_result"
    }
   ],
   "source": [
    "selected_tests"
   ]
  },
  {
   "cell_type": "code",
   "execution_count": 17,
   "id": "498bbaa1-2d5c-42e3-80b3-e3784c798161",
   "metadata": {},
   "outputs": [],
   "source": [
    "# Remove extra commas from all values in the DataFrame\n",
    "df_without_commas = df.apply(lambda x: x.map(lambda y: str(y).replace(',', '')))\n",
    "selected_tests.to_csv('output/Tests.csv', index=False, encoding='utf-8')"
   ]
  },
  {
   "cell_type": "code",
   "execution_count": null,
   "id": "6c1d0850-90a9-422e-891d-12b27bd6b500",
   "metadata": {},
   "outputs": [],
   "source": []
  }
 ],
 "metadata": {
  "kernelspec": {
   "display_name": "Python 3 (ipykernel)",
   "language": "python",
   "name": "python3"
  },
  "language_info": {
   "codemirror_mode": {
    "name": "ipython",
    "version": 3
   },
   "file_extension": ".py",
   "mimetype": "text/x-python",
   "name": "python",
   "nbconvert_exporter": "python",
   "pygments_lexer": "ipython3",
   "version": "3.12.2"
  }
 },
 "nbformat": 4,
 "nbformat_minor": 5
}
